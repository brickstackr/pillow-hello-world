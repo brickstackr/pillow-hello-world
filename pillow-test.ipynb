{
 "cells": [
  {
   "cell_type": "code",
   "execution_count": 4,
   "id": "b269dd79",
   "metadata": {},
   "outputs": [],
   "source": [
    "from PIL import Image, ImageDraw, ImageFont\n",
    "\n",
    "# create an image\n",
    "out = Image.new(\"RGB\", (150, 100), (255, 255, 255))\n",
    "\n",
    "# get a font\n",
    "#fnt = ImageFont.truetype(\"Pillow/Tests/fonts/FreeMono.ttf\", 40)\n",
    "# get a drawing context\n",
    "d = ImageDraw.Draw(out)\n",
    "\n",
    "# draw multiline text\n",
    "d.multiline_text((10, 10), \"Hello\\nWorld\", fill=(0, 0, 0))\n",
    "\n",
    "out.show()"
   ]
  }
 ],
 "metadata": {
  "kernelspec": {
   "display_name": "Python 3 (ipykernel)",
   "language": "python",
   "name": "python3"
  },
  "language_info": {
   "codemirror_mode": {
    "name": "ipython",
    "version": 3
   },
   "file_extension": ".py",
   "mimetype": "text/x-python",
   "name": "python",
   "nbconvert_exporter": "python",
   "pygments_lexer": "ipython3",
   "version": "3.8.12"
  }
 },
 "nbformat": 4,
 "nbformat_minor": 5
}
